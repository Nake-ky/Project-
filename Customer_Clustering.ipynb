{
 "cells": [
  {
   "cell_type": "code",
   "execution_count": null,
   "id": "d3430573-80f6-440e-bf73-645dca41d884",
   "metadata": {},
   "outputs": [],
   "source": [
    "import pandas as pd\n",
    "import numpy as np\n",
    "import seaborn as sns\n",
    "import matplotlib.pyplot as plt\n",
    "from sklearn.cluster import KMeans"
   ]
  },
  {
   "cell_type": "code",
   "execution_count": null,
   "id": "2783129d-848b-47ae-b746-ff28d0922735",
   "metadata": {},
   "outputs": [],
   "source": [
    "import warnings \n",
    "warnings.filterwarnings('ignore')"
   ]
  },
  {
   "cell_type": "code",
   "execution_count": null,
   "id": "85dcad00-8cbb-4ed7-83eb-31dbdadfd1d2",
   "metadata": {},
   "outputs": [],
   "source": [
    "df = pd.read_csv(r'C:\\Users\\nake_\\Downloads\\Mall_Customers.csv')"
   ]
  },
  {
   "cell_type": "code",
   "execution_count": null,
   "id": "b657bba8-3323-4338-86c9-e249b572de5b",
   "metadata": {},
   "outputs": [],
   "source": [
    "df.head(5)"
   ]
  },
  {
   "cell_type": "code",
   "execution_count": null,
   "id": "fb106919-69dd-4f06-a754-4096f8dffcc9",
   "metadata": {},
   "outputs": [],
   "source": [
    "df.info()"
   ]
  },
  {
   "cell_type": "markdown",
   "id": "a74a3079-06e5-4fcd-8c4a-fb0fa4b3fc11",
   "metadata": {},
   "source": [
    "Univariate analysis"
   ]
  },
  {
   "cell_type": "code",
   "execution_count": null,
   "id": "49c84ea9-e93f-4864-93c6-cfd1c28e3f82",
   "metadata": {},
   "outputs": [],
   "source": [
    "df.describe()"
   ]
  },
  {
   "cell_type": "code",
   "execution_count": null,
   "id": "e535342c-d130-4049-a5f2-a43ceb8c90b1",
   "metadata": {},
   "outputs": [],
   "source": [
    "df.columns"
   ]
  },
  {
   "cell_type": "code",
   "execution_count": null,
   "id": "b107e017-9e95-45c6-848d-fcc2868ec681",
   "metadata": {},
   "outputs": [],
   "source": [
    "columns = ['Age', 'Annual Income (k$)','Spending Score (1-100)']\n",
    "for i in columns:\n",
    "    plt.figure()\n",
    "    sns.distplot(df[i])"
   ]
  },
  {
   "cell_type": "code",
   "execution_count": null,
   "id": "b8c71904-c8d9-483a-bee2-60db4f9e1bf9",
   "metadata": {},
   "outputs": [],
   "source": [
    "sns.kdeplot(data=df, x=\"Annual Income (k$)\", hue=\"Gender\", fill=True)"
   ]
  },
  {
   "cell_type": "code",
   "execution_count": null,
   "id": "0468d258-3207-4f21-be2f-3a432676531a",
   "metadata": {},
   "outputs": [],
   "source": [
    "columns = ['Age', 'Annual Income (k$)','Spending Score (1-100)']\n",
    "for i in columns:\n",
    "    plt.figure()\n",
    "    sns.kdeplot(data=df, x=i, hue=\"Gender\", fill=True)\n",
    "    plt.title(f\"Distribution of {i} by Gender\")\n",
    "    plt.show()"
   ]
  },
  {
   "cell_type": "code",
   "execution_count": null,
   "id": "25383cf1-6050-40b3-b60f-af908e35f3de",
   "metadata": {},
   "outputs": [],
   "source": [
    "df['Gender'].value_counts(normalize=True)"
   ]
  },
  {
   "cell_type": "markdown",
   "id": "d3b4543b-284e-443e-9025-5204effd1dd2",
   "metadata": {},
   "source": [
    "Bivariate Analysis"
   ]
  },
  {
   "cell_type": "code",
   "execution_count": null,
   "id": "6e3e6291-93a4-440d-b850-ddde042ad6c8",
   "metadata": {},
   "outputs": [],
   "source": [
    "sns.scatterplot(data=df, x='Annual Income (k$)',y='Spending Score (1-100)' );"
   ]
  },
  {
   "cell_type": "code",
   "execution_count": null,
   "id": "499fa7be-32d0-461c-902e-3604fbc178d0",
   "metadata": {},
   "outputs": [],
   "source": [
    "sns.pairplot(df,hue='Gender')"
   ]
  },
  {
   "cell_type": "code",
   "execution_count": null,
   "id": "212b6a2c-5d23-4ba3-abd2-b02b973e9998",
   "metadata": {},
   "outputs": [],
   "source": [
    "df.groupby('Gender')[['Age', 'Annual Income (k$)', 'Spending Score (1-100)']].mean()"
   ]
  },
  {
   "cell_type": "code",
   "execution_count": null,
   "id": "fc6d2ee9-d464-43f9-a906-d367c486b9a6",
   "metadata": {},
   "outputs": [],
   "source": [
    "df['Gender'] = df['Gender'].map({'Male': 0, 'Female': 1})  # Encode Gender as 0 and 1\n",
    "correlation_matrix = df.corr()\n",
    "print(correlation_matrix)"
   ]
  },
  {
   "cell_type": "code",
   "execution_count": null,
   "id": "a8b9db9e-37b8-4f22-ac1e-d4b7a733cf26",
   "metadata": {},
   "outputs": [],
   "source": [
    "sns.heatmap(df.corr(),annot=True,cmap='coolwarm')"
   ]
  },
  {
   "cell_type": "markdown",
   "id": "6337b6db-c043-4dc8-b453-78aaa8be6a6d",
   "metadata": {},
   "source": [
    "Clustering"
   ]
  },
  {
   "cell_type": "code",
   "execution_count": null,
   "id": "37a1f88e-3c96-4949-ac01-5cd9d9269387",
   "metadata": {},
   "outputs": [],
   "source": [
    "clustering1 = KMeans(n_clusters=3)"
   ]
  },
  {
   "cell_type": "code",
   "execution_count": null,
   "id": "9b5ba331-fc30-48af-b686-84fbd0d9021e",
   "metadata": {},
   "outputs": [],
   "source": [
    "clustering1.fit(df[['Annual Income (k$)']])"
   ]
  },
  {
   "cell_type": "code",
   "execution_count": null,
   "id": "a0b53a2a-7952-4395-ac5e-30276b0dba52",
   "metadata": {},
   "outputs": [],
   "source": [
    "clustering1.labels_"
   ]
  },
  {
   "cell_type": "code",
   "execution_count": null,
   "id": "cf48ed00-0efd-4c1a-ad5f-cd901a8bb42a",
   "metadata": {},
   "outputs": [],
   "source": [
    "df['Income Cluster'] = clustering1.labels_\n",
    "df.head()"
   ]
  },
  {
   "cell_type": "code",
   "execution_count": null,
   "id": "12a10165-93a5-428a-9fd9-5644c57e080d",
   "metadata": {},
   "outputs": [],
   "source": [
    "df['Income Cluster'].value_counts()"
   ]
  },
  {
   "cell_type": "code",
   "execution_count": null,
   "id": "b66b82dd-ba5b-458b-97db-0909a6e3134b",
   "metadata": {},
   "outputs": [],
   "source": [
    "clustering1.inertia_"
   ]
  },
  {
   "cell_type": "code",
   "execution_count": null,
   "id": "8f1e3131-a669-4506-adf2-cb4c56f6c9d5",
   "metadata": {},
   "outputs": [],
   "source": [
    "intertia_scores=[]\n",
    "for i in range(1,11):\n",
    "    kmeans=KMeans(n_clusters=i)\n",
    "    kmeans.fit(df[['Annual Income (k$)']])\n",
    "    intertia_scores.append(kmeans.inertia_)"
   ]
  },
  {
   "cell_type": "code",
   "execution_count": null,
   "id": "74667ed7-0522-4d51-9f14-5cd89b1e5670",
   "metadata": {},
   "outputs": [],
   "source": [
    "intertia_scores"
   ]
  },
  {
   "cell_type": "code",
   "execution_count": null,
   "id": "887135ed-0355-4c6f-959b-46f193cc681a",
   "metadata": {},
   "outputs": [],
   "source": [
    "plt.plot(range(1,11),intertia_scores)"
   ]
  },
  {
   "cell_type": "code",
   "execution_count": null,
   "id": "03bf8fe5-3d8a-42d4-810d-0b7103fcbdb6",
   "metadata": {},
   "outputs": [],
   "source": [
    "df.groupby('Income Cluster')[['Age', 'Annual Income (k$)', 'Spending Score (1-100)']].mean()"
   ]
  },
  {
   "cell_type": "code",
   "execution_count": null,
   "id": "b408151a-492d-4cbe-bcf8-de27cec7cae2",
   "metadata": {},
   "outputs": [],
   "source": [
    "clustering2 = KMeans(n_clusters=5)\n",
    "clustering2.fit(df[['Annual Income (k$)','Spending Score (1-100)']])\n",
    "df['Spending and Income Cluster'] =clustering2.labels_\n",
    "df.head()"
   ]
  },
  {
   "cell_type": "code",
   "execution_count": null,
   "id": "cfb3f8bc-ab3d-469c-a170-5d70ab412307",
   "metadata": {},
   "outputs": [],
   "source": [
    "intertia_scores2=[]\n",
    "for i in range(1,11):\n",
    "    kmeans2=KMeans(n_clusters=i)\n",
    "    kmeans2.fit(df[['Annual Income (k$)','Spending Score (1-100)']])\n",
    "    intertia_scores2.append(kmeans2.inertia_)\n",
    "plt.plot(range(1,11),intertia_scores2)"
   ]
  },
  {
   "cell_type": "code",
   "execution_count": null,
   "id": "3f752eae-8b86-4d00-b792-af9833953639",
   "metadata": {},
   "outputs": [],
   "source": [
    "centers =pd.DataFrame(clustering2.cluster_centers_)\n",
    "centers.columns = ['x','y']"
   ]
  },
  {
   "cell_type": "code",
   "execution_count": null,
   "id": "d5f52dbc-eaf6-44aa-a26f-fc264762ae27",
   "metadata": {},
   "outputs": [],
   "source": [
    "plt.figure(figsize=(12,10))\n",
    "plt.scatter(x=centers['x'],y=centers['y'],s=100,c='black',marker='*')\n",
    "sns.scatterplot(data=df, x ='Annual Income (k$)',y='Spending Score (1-100)',hue='Spending and Income Cluster',palette='tab10')\n",
    "plt.savefig('clustering_bivaraiate.png')"
   ]
  },
  {
   "cell_type": "code",
   "execution_count": null,
   "id": "dae1afeb-363b-46aa-b8ba-78c06df87715",
   "metadata": {},
   "outputs": [],
   "source": [
    "pd.crosstab(df['Spending and Income Cluster'],df['Gender'],normalize='index')"
   ]
  },
  {
   "cell_type": "code",
   "execution_count": null,
   "id": "762d0271-4601-4808-818d-a1bcd70ce1d6",
   "metadata": {},
   "outputs": [],
   "source": [
    "df.to_csv('Clustering.csv')"
   ]
  }
 ],
 "metadata": {
  "kernelspec": {
   "display_name": "Python [conda env:base] *",
   "language": "python",
   "name": "conda-base-py"
  },
  "language_info": {
   "codemirror_mode": {
    "name": "ipython",
    "version": 3
   },
   "file_extension": ".py",
   "mimetype": "text/x-python",
   "name": "python",
   "nbconvert_exporter": "python",
   "pygments_lexer": "ipython3",
   "version": "3.12.7"
  }
 },
 "nbformat": 4,
 "nbformat_minor": 5
}
